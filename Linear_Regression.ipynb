{
 "cells": [
  {
   "cell_type": "markdown",
   "metadata": {},
   "source": [
    "# Linear Regression Using Normal Equation"
   ]
  },
  {
   "cell_type": "code",
   "execution_count": 11,
   "metadata": {},
   "outputs": [],
   "source": [
    "import numpy as np\n",
    "import matplotlib.pyplot as plt"
   ]
  },
  {
   "cell_type": "code",
   "execution_count": 16,
   "metadata": {},
   "outputs": [],
   "source": [
    "class lin_reg:\n",
    "    \n",
    "    def __init__(self, x, y):\n",
    "        self.x = np.array(x)# x is feature\n",
    "        self.m = self.x.shape[0]# number of examples\n",
    "        self.n = self.x.shape[1]#number of features\n",
    "        self.y = np.array(y).reshape(self.m, 1)# y is target variable\n",
    "        self.theta = np.zeros((self.n+1,1))# parameters\n",
    "    \n",
    "    def train(self):\n",
    "        \n",
    "        ones = np.ones((self.m, 1))\n",
    "        self.x = np.hstack((ones, self.x))# converting shape of x from m*n to m*n+1\n",
    "\n",
    "        if self.x.shape != (self.m, self.n + 1):\n",
    "            print('x shape error')\n",
    "\n",
    "        if self.y.shape != (self.m, 1):\n",
    "            print(self.y.shape, (self.m, 1) )\n",
    "            print('y shape error')\n",
    "            \n",
    "        xt = self.x.transpose()\n",
    "        z = np.linalg.inv(np.dot(xt, self.x))\n",
    "\n",
    "        theta1 = np.dot(z, xt)\n",
    "        theta = np.dot(theta1, self.y).reshape(self.n + 1, 1)# theta = (tr(x).x)^-1.tr(x).y : . represents matrix multiplication\n",
    "\n",
    "\n",
    "        if theta.shape != (self.n + 1, 1):\n",
    "            print('Calculation error in theta!')\n",
    "        else: \n",
    "            self.theta = theta\n",
    "            \n",
    "    def pred(self, x_test):\n",
    "        \n",
    "        x_test = np.array(x_test).reshape(1, self.n)\n",
    "        ones = np.ones((1, 1))\n",
    "        x_test = np.hstack((ones, x_test))\n",
    "        \n",
    "        if x_test.shape != (1, self.n+1):\n",
    "            print('x_test shape error')\n",
    "            \n",
    "        y_pred = np.dot(x_test, self.theta)\n",
    "        return y_pred\n",
    "        \n",
    "    \n",
    "    "
   ]
  },
  {
   "cell_type": "code",
   "execution_count": 43,
   "metadata": {},
   "outputs": [],
   "source": [
    "x =[[2], [4 ], [8], [6]] # must be in m*n, where m = no of examples and n= no of features"
   ]
  },
  {
   "cell_type": "code",
   "execution_count": 44,
   "metadata": {},
   "outputs": [],
   "source": [
    "y=[1, 10, 15, 18] # must be in m*1"
   ]
  },
  {
   "cell_type": "code",
   "execution_count": 45,
   "metadata": {},
   "outputs": [],
   "source": [
    "model1 = lin_reg(x, y)"
   ]
  },
  {
   "cell_type": "code",
   "execution_count": 46,
   "metadata": {},
   "outputs": [],
   "source": [
    "model1.train()"
   ]
  },
  {
   "cell_type": "code",
   "execution_count": 47,
   "metadata": {},
   "outputs": [
    {
     "data": {
      "text/plain": [
       "array([[11.]])"
      ]
     },
     "execution_count": 47,
     "metadata": {},
     "output_type": "execute_result"
    }
   ],
   "source": [
    "model1.pred([5])"
   ]
  },
  {
   "cell_type": "code",
   "execution_count": 48,
   "metadata": {},
   "outputs": [
    {
     "data": {
      "text/plain": [
       "array([[-1.5],\n",
       "       [ 2.5]])"
      ]
     },
     "execution_count": 48,
     "metadata": {},
     "output_type": "execute_result"
    }
   ],
   "source": [
    "model1.theta # parameters"
   ]
  },
  {
   "cell_type": "code",
   "execution_count": 49,
   "metadata": {
    "scrolled": true
   },
   "outputs": [
    {
     "data": {
      "text/plain": [
       "[<matplotlib.lines.Line2D at 0x1ea0f8cc3d0>]"
      ]
     },
     "execution_count": 49,
     "metadata": {},
     "output_type": "execute_result"
    },
    {
     "data": {
      "image/png": "[encoded data removed]",
      "text/plain": [
       "<Figure size 432x288 with 1 Axes>"
      ]
     },
     "metadata": {
      "needs_background": "light"
     },
     "output_type": "display_data"
    }
   ],
   "source": [
    "# Plot for the examples and best fit line given by model, only works for single feature.\n",
    "plt.scatter(x, y)\n",
    "plt.plot()\n",
    "one = np.ones((np.array(x).shape[0], 1))\n",
    "x_plot = np.hstack((one, x))\n",
    "plt.plot(x, np.dot(np.array(x_plot), model1.theta))"
   ]
  },
  {
   "cell_type": "code",
   "execution_count": null,
   "metadata": {},
   "outputs": [],
   "source": []
  }
 ],
 "metadata": {
  "kernelspec": {
   "display_name": "Python 3",
   "language": "python",
   "name": "python3"
  },
  "language_info": {
   "codemirror_mode": {
    "name": "ipython",
    "version": 3
   },
   "file_extension": ".py",
   "mimetype": "text/x-python",
   "name": "python",
   "nbconvert_exporter": "python",
   "pygments_lexer": "ipython3",
   "version": "3.8.5"
  }
 },
 "nbformat": 4,
 "nbformat_minor": 4
}
